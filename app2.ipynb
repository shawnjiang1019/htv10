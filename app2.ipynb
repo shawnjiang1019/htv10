{
 "cells": [
  {
   "cell_type": "code",
   "execution_count": null,
   "id": "cd844fdc",
   "metadata": {},
   "outputs": [],
   "source": [
    "from elevenlabs.client import ElevenLabs\n",
    "import io\n",
    "import pygame\n",
    "import os\n",
    "import tempfile\n",
    "import time\n",
    "\n",
    "# Initialize pygame mixer for audio playback\n",
    "pygame.mixer.init()\n",
    "\n",
    "client = ElevenLabs(\n",
    "    api_key=\"\"\n",
    ")\n",
    "\n",
    "def play_audio(text, voice_id=\"JBFqnCBsd6RMkjVDRZzb\"):\n",
    "    \"\"\"Convert text to speech and play it using pygame\"\"\"\n",
    "    try:\n",
    "        # Generate audio\n",
    "        audio = client.text_to_speech.convert(\n",
    "            text=text,\n",
    "            voice_id=voice_id,\n",
    "            model_id=\"eleven_multilingual_v2\",\n",
    "            output_format=\"mp3_44100_128\",\n",
    "        )\n",
    "        \n",
    "        # Convert the audio to bytes\n",
    "        audio_bytes = b\"\".join(audio)\n",
    "        \n",
    "        # Create a temporary file with a unique name\n",
    "        with tempfile.NamedTemporaryFile(delete=False, suffix=\".mp3\") as temp_file:\n",
    "            temp_file.write(audio_bytes)\n",
    "            temp_filename = temp_file.name\n",
    "        \n",
    "        # Stop any currently playing music\n",
    "        pygame.mixer.music.stop()\n",
    "        \n",
    "        # Load and play the new audio file\n",
    "        pygame.mixer.music.load(temp_filename)\n",
    "        pygame.mixer.music.play()\n",
    "        \n",
    "        # Wait for playback to finish\n",
    "        while pygame.mixer.music.get_busy():\n",
    "            pygame.time.wait(100)\n",
    "        \n",
    "        # Clean up the temporary file\n",
    "        try:\n",
    "            os.unlink(temp_filename)\n",
    "        except OSError:\n",
    "            pass  # File might already be deleted\n",
    "            \n",
    "    except Exception as e:\n",
    "        print(f\"Error playing audio: {e}\")\n",
    "\n",
    "# Test the function\n",
    "play_audio(\"The first move is what sets everything in motion.\")\n"
   ]
  },
  {
   "cell_type": "code",
   "execution_count": null,
   "id": "8462dcc5",
   "metadata": {},
   "outputs": [],
   "source": [
    "# Clean up any existing temp_audio.mp3 file\n",
    "try:\n",
    "    if os.path.exists(\"temp_audio.mp3\"):\n",
    "        os.unlink(\"temp_audio.mp3\")\n",
    "        print(\"Cleaned up existing temp_audio.mp3\")\n",
    "except OSError as e:\n",
    "    print(f\"Could not clean up temp_audio.mp3: {e}\")\n",
    "\n",
    "# Test with different text\n",
    "play_audio(\"Hello! This is a test of the text-to-speech system.\")\n"
   ]
  }
 ],
 "metadata": {
  "kernelspec": {
   "display_name": "venv",
   "language": "python",
   "name": "python3"
  },
  "language_info": {
   "codemirror_mode": {
    "name": "ipython",
    "version": 3
   },
   "file_extension": ".py",
   "mimetype": "text/x-python",
   "name": "python",
   "nbconvert_exporter": "python",
   "pygments_lexer": "ipython3",
   "version": "3.9.10"
  }
 },
 "nbformat": 4,
 "nbformat_minor": 5
}
